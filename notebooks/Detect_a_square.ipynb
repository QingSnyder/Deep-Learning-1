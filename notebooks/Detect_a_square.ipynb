{
  "nbformat": 4,
  "nbformat_minor": 0,
  "metadata": {
    "colab": {
      "name": "What can one convolutional neuron do? Detect a square.ipynb",
      "provenance": [],
      "collapsed_sections": []
    },
    "kernelspec": {
      "name": "python3",
      "display_name": "Python 3"
    },
    "accelerator": "GPU"
  },
  "cells": [
    {
      "cell_type": "markdown",
      "metadata": {
        "id": "2L9IwG7PNOu9"
      },
      "source": [
        "#Learning to detect a square using one convolutional filter\n",
        "* Create 1000 random images where 500 of them have squares in them. \n",
        "* Train one convolutional filter of size `5 x 5` to classfy these two sets of images.\n",
        "* Investigate what the filter has learnt and why it works.\n",
        "* Analyze the correctly and incorrectly classified examples."
      ]
    },
    {
      "cell_type": "code",
      "metadata": {
        "id": "brY6_BuaWa_e"
      },
      "source": [
        "import numpy as np\n",
        "from skimage import draw\n",
        "import matplotlib.pyplot as plt\n",
        "import seaborn as sns"
      ],
      "execution_count": null,
      "outputs": []
    },
    {
      "cell_type": "code",
      "metadata": {
        "id": "iFUrKyBiZ_HS"
      },
      "source": [
        "X = np.random.random((1000, 10, 10, 1))\n",
        "Y = np.zeros((1000, 1))\n",
        "\n",
        "for i in range(0, 1000, 2):\n",
        "    randomx = 2 + int(np.random.random() * 6)\n",
        "    randomy = 2 + int(np.random.random() * 6)\n",
        "    randoml = 1\n",
        "    rr, cc = draw.rectangle_perimeter( start = (randomx, randomy), extent = (randoml, randoml), shape=(10, 10))\n",
        "    X[i+1, rr, cc, 0] = 1\n",
        "    Y[i+1] = 1"
      ],
      "execution_count": null,
      "outputs": []
    },
    {
      "cell_type": "code",
      "metadata": {
        "id": "5Gi66D8ggUJB"
      },
      "source": [
        "# Visualize first 16 inputs and outputs\n",
        "L = 4\n",
        "plt.figure(figsize=(20,16))\n",
        "for p in range(0, L):\n",
        "    for q in range(0, L):\n",
        "        plt.subplot(L, L, p * L + q + 1)\n",
        "        sns.heatmap(X[p * L + q, :, :, 0], cmap='Blues')\n",
        "        plt.title('Label: ' + str(Y[p * L + q]))\n",
        "plt.show()"
      ],
      "execution_count": null,
      "outputs": []
    },
    {
      "cell_type": "code",
      "metadata": {
        "id": "vjOCVy20c3cj"
      },
      "source": [
        "print(X.shape, Y.shape)"
      ],
      "execution_count": null,
      "outputs": []
    },
    {
      "cell_type": "code",
      "metadata": {
        "id": "RhKofmD4dFYg"
      },
      "source": [
        "# Build a CNN model with only one 5x5 filter\n",
        "from tensorflow.python.keras.layers import Input, Convolution2D, Activation, GlobalMaxPool2D\n",
        "from tensorflow.python.keras.models import Model\n",
        "my_input = Input(shape = (10, 10, 1))\n",
        "my_output = Convolution2D(1, (5, 5))(my_input)\n",
        "my_output = Activation('sigmoid')(my_output)\n",
        "# 6x6 = 36, picks up the maximum\n",
        "my_output = GlobalMaxPool2D()(my_output)\n",
        "model = Model(my_input, my_output)"
      ],
      "execution_count": null,
      "outputs": []
    },
    {
      "cell_type": "code",
      "metadata": {
        "id": "IcS02keTeOhQ"
      },
      "source": [
        "model.summary()"
      ],
      "execution_count": null,
      "outputs": []
    },
    {
      "cell_type": "code",
      "metadata": {
        "id": "ea3PE0NueE0L"
      },
      "source": [
        "model.compile(loss = 'binary_crossentropy', optimizer = 'adam', metrics = ['accuracy'])\n",
        "# baseline acc = 50%"
      ],
      "execution_count": null,
      "outputs": []
    },
    {
      "cell_type": "code",
      "metadata": {
        "id": "nu6XnawGwU52"
      },
      "source": [
        "# Pull out the weights of the filter\n",
        "filter_weights = model.get_weights()[0]\n",
        "print(filter_weights.shape)\n",
        "sns.heatmap(filter_weights[:, :, 0, 0], cmap='Reds')\n",
        "plt.show()"
      ],
      "execution_count": null,
      "outputs": []
    },
    {
      "cell_type": "code",
      "metadata": {
        "id": "tqqeJduWek78"
      },
      "source": [
        "model.fit(X, Y, epochs = 512, verbose = 1, batch_size=10)"
      ],
      "execution_count": null,
      "outputs": []
    },
    {
      "cell_type": "code",
      "metadata": {
        "id": "w0lc43YHepRr"
      },
      "source": [
        "# Visualize the filter\n",
        "filter_weights = model.get_weights()[0]\n",
        "print(filter_weights.shape)\n",
        "sns.heatmap(filter_weights[:, :, 0, 0], cmap = 'Reds')\n",
        "plt.show()\n",
        "\n",
        "np.set_printoptions(formatter = {'float': '{: 0.1f}'.format})\n",
        "print(filter_weights[:, :, 0, 0])"
      ],
      "execution_count": null,
      "outputs": []
    },
    {
      "cell_type": "code",
      "metadata": {
        "id": "O_i6iehzOuqw"
      },
      "source": [
        "# Create another model which can give us the output of the filter\n",
        "my_input = Input(shape = (10, 10, 1))\n",
        "my_output = Convolution2D(1, (5, 5))(my_input)\n",
        "my_output = Activation('sigmoid')(my_output)\n",
        "model_intermediate = Model(my_input, my_output)\n",
        "\n",
        "# Load the weights of our model into this model\n",
        "model.save_weights('a.hdf5')\n",
        "model_intermediate.load_weights('a.hdf5')"
      ],
      "execution_count": null,
      "outputs": []
    },
    {
      "cell_type": "code",
      "metadata": {
        "id": "uNG07KiLPDQ1"
      },
      "source": [
        "# Obtain predictions and output of the CNN filter\n",
        "P = model.predict(X)\n",
        "O = model_intermediate.predict(X)"
      ],
      "execution_count": null,
      "outputs": []
    },
    {
      "cell_type": "code",
      "metadata": {
        "id": "LCeprW8Phl3d"
      },
      "source": [
        "# Check for misclassified examples\n",
        "for i in range(0, 1000):\n",
        "    if np.round(P[i]) == Y[i]:\n",
        "        continue\n",
        "    plt.figure(figsize=(10, 4))\n",
        "    plt.suptitle(str(Y[i]) + '    ' + str(P[i]))\n",
        "    plt.subplot(1, 2, 1)\n",
        "    sns.heatmap(X[i, :, :, 0], cmap = 'Blues')\n",
        "    plt.subplot(1, 2, 2)\n",
        "    sns.heatmap(O[i, :, :, 0], cmap = 'Oranges')\n",
        "    plt.show()"
      ],
      "execution_count": null,
      "outputs": []
    },
    {
      "cell_type": "code",
      "metadata": {
        "id": "FVkFzJCIA5ws"
      },
      "source": [
        "# Check for correctly classified examples\n",
        "for i in range(0, 10):\n",
        "    if np.round(P[i]) != Y[i]:\n",
        "        continue\n",
        "    plt.figure(figsize=(10, 4))\n",
        "    plt.suptitle(str(Y[i]) + '    ' + str(P[i]))\n",
        "    plt.subplot(1, 2, 1)\n",
        "    sns.heatmap(X[i, :, :, 0], cmap = 'Blues')\n",
        "    plt.subplot(1, 2, 2)\n",
        "    sns.heatmap(O[i, :, :, 0], cmap = 'Oranges')\n",
        "    plt.show()"
      ],
      "execution_count": null,
      "outputs": []
    },
    {
      "cell_type": "code",
      "metadata": {
        "id": "-Yvs4gn5NAe6"
      },
      "source": [
        ""
      ],
      "execution_count": null,
      "outputs": []
    }
  ]
}