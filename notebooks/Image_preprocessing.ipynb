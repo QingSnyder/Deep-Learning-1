{
  "nbformat": 4,
  "nbformat_minor": 0,
  "metadata": {
    "colab": {
      "name": "Image_preprocessing.ipynb",
      "provenance": [],
      "collapsed_sections": []
    },
    "kernelspec": {
      "name": "python3",
      "display_name": "Python 3"
    }
  },
  "cells": [
    {
      "cell_type": "markdown",
      "metadata": {
        "id": "IoAtf-XmC48v"
      },
      "source": [
        "#Get the `cats-dogs.tar.gz` dataset"
      ]
    },
    {
      "cell_type": "code",
      "metadata": {
        "id": "x1-dlUS6g-Vy"
      },
      "source": [
        "from google.colab import files\n",
        "x = files.upload()"
      ],
      "execution_count": null,
      "outputs": []
    },
    {
      "cell_type": "code",
      "metadata": {
        "id": "ig-DOlZrnRI2"
      },
      "source": [
        "! ls -hl"
      ],
      "execution_count": null,
      "outputs": []
    },
    {
      "cell_type": "code",
      "metadata": {
        "id": "rjDIZVovln2L"
      },
      "source": [
        "! unzip cats-dogs.zip"
      ],
      "execution_count": null,
      "outputs": []
    },
    {
      "cell_type": "code",
      "metadata": {
        "id": "QwUzSCE38ZSR"
      },
      "source": [
        "! ls -l train/cats"
      ],
      "execution_count": null,
      "outputs": []
    },
    {
      "cell_type": "markdown",
      "metadata": {
        "id": "yQ4_5eazDD8i"
      },
      "source": [
        "#Image preprocessing using `Pillow` and `Matplotlib`"
      ]
    },
    {
      "cell_type": "code",
      "metadata": {
        "id": "VJkMWYi56jh0"
      },
      "source": [
        "import PIL\n",
        "print('Pillow Version:', PIL.__version__)"
      ],
      "execution_count": null,
      "outputs": []
    },
    {
      "cell_type": "code",
      "metadata": {
        "id": "jj1PY2OL69M_"
      },
      "source": [
        "# load and show an image with Pillow\n",
        "from PIL import Image\n",
        "# load the image\n",
        "image = Image.open('train/dogs/dog.1001.jpg')"
      ],
      "execution_count": null,
      "outputs": []
    },
    {
      "cell_type": "code",
      "metadata": {
        "id": "e63FHubS70VM"
      },
      "source": [
        "# summarize some details about the image\n",
        "print(image.format)\n",
        "print(image.mode)\n",
        "print(image.size)"
      ],
      "execution_count": null,
      "outputs": []
    },
    {
      "cell_type": "code",
      "metadata": {
        "id": "ag6x4AXCghw7"
      },
      "source": [
        "# Load one image\n",
        "from matplotlib.pyplot import imshow\n",
        "import numpy as np\n",
        "%matplotlib inline\n",
        "\n",
        "print(np.asarray(image).shape)\n",
        "imshow(np.asarray(image))"
      ],
      "execution_count": null,
      "outputs": []
    },
    {
      "cell_type": "code",
      "metadata": {
        "id": "E7MWfdi9_vuc"
      },
      "source": [
        "# Show color bar\n",
        "import matplotlib.pyplot as plt\n",
        "image = Image.open('train/dogs/dog.1001.jpg')\n",
        "plt.imshow(np.asarray(image))\n",
        "plt.colorbar()"
      ],
      "execution_count": null,
      "outputs": []
    },
    {
      "cell_type": "code",
      "metadata": {
        "id": "FTvZa2xn8uOF"
      },
      "source": [
        "# Convert to grayscale\n",
        "image = Image.open('train/dogs/dog.1001.jpg')\n",
        "gs_image = image.convert(mode='L')\n",
        "imshow(np.asarray(gs_image), cmap='gray')"
      ],
      "execution_count": null,
      "outputs": []
    },
    {
      "cell_type": "code",
      "metadata": {
        "id": "3BNHGnJB9ZT_"
      },
      "source": [
        "# Create a thumbnail and \"preserve aspect ratio\"\n",
        "image = Image.open('train/dogs/dog.1001.jpg')\n",
        "image.thumbnail((100,100))\n",
        "print(image.size)\n",
        "imshow(np.asarray(image))"
      ],
      "execution_count": null,
      "outputs": []
    },
    {
      "cell_type": "code",
      "metadata": {
        "id": "t9clzmE39elp"
      },
      "source": [
        "# Resize and \"ignore original aspect ratio\"\n",
        "image = Image.open('train/dogs/dog.1001.jpg')\n",
        "img_resized = image.resize((200,200))\n",
        "print(img_resized.size)\n",
        "imshow(np.asarray(img_resized))"
      ],
      "execution_count": null,
      "outputs": []
    },
    {
      "cell_type": "code",
      "metadata": {
        "id": "67aIe0LK-SKk"
      },
      "source": [
        "# Horizontal flip\n",
        "image = Image.open('train/dogs/dog.1001.jpg')\n",
        "imshow(image.transpose(Image.FLIP_LEFT_RIGHT))"
      ],
      "execution_count": null,
      "outputs": []
    },
    {
      "cell_type": "code",
      "metadata": {
        "id": "BPKlfYDJ-leG"
      },
      "source": [
        "# Rotate\n",
        "image = Image.open('train/dogs/dog.1001.jpg')\n",
        "imshow(image.rotate(45))"
      ],
      "execution_count": null,
      "outputs": []
    },
    {
      "cell_type": "code",
      "metadata": {
        "id": "xIqoPBZL-syY"
      },
      "source": [
        "# Crop\n",
        "image = Image.open('train/dogs/dog.1001.jpg')\n",
        "cropped = image.crop((100, 100, 300, 300))\n",
        "imshow(cropped)"
      ],
      "execution_count": null,
      "outputs": []
    },
    {
      "cell_type": "code",
      "metadata": {
        "id": "GwFmhozQ7EuX"
      },
      "source": [
        "# Load all images in a directory\n",
        "from os import listdir\n",
        "from matplotlib import image\n",
        "\n",
        "loaded_images = list()\n",
        "for filename in listdir('train/cats/'):\n",
        "\timg_data = image.imread('train/cats/' + filename)\n",
        "\tloaded_images.append(img_data)\n",
        "\tprint('> loaded %s %s' % (filename, img_data.shape))"
      ],
      "execution_count": null,
      "outputs": []
    },
    {
      "cell_type": "markdown",
      "metadata": {
        "id": "M1Hm8T42CwQa"
      },
      "source": [
        "#Building your own image generator using `ImageDataGenerator`"
      ]
    },
    {
      "cell_type": "code",
      "metadata": {
        "id": "c827BBnu7Cx7"
      },
      "source": [
        "from tensorflow.keras.preprocessing.image import ImageDataGenerator\n",
        "# Rescale all images by 1./255\n",
        "my_generator = ImageDataGenerator(rescale=1./255)"
      ],
      "execution_count": null,
      "outputs": []
    },
    {
      "cell_type": "code",
      "metadata": {
        "id": "adrLfqDMApw6"
      },
      "source": [
        "# Specify how the ImageDataGenerator will read and deliver\n",
        "my_image_generator = my_generator.flow_from_directory( './train/', target_size=(150, 150), batch_size=4, class_mode='binary')\n",
        "# For more than 2 classes change to \"categorical\""
      ],
      "execution_count": null,
      "outputs": []
    },
    {
      "cell_type": "code",
      "metadata": {
        "id": "1-4EpDAeBWXu"
      },
      "source": [
        "for my_batch in my_image_generator:\n",
        "    # my_batch is a tuple with images and labels\n",
        "    images = my_batch[0]\n",
        "    labels = my_batch[1]\n",
        "    for i in range(len(labels)):\n",
        "        # Gives one image and its corresponding label\n",
        "        plt.imshow(images[i])\n",
        "        plt.colorbar()\n",
        "        plt.show()\n",
        "        print(labels[i])\n",
        "    break"
      ],
      "execution_count": null,
      "outputs": []
    },
    {
      "cell_type": "markdown",
      "metadata": {
        "id": "ZGMJlEtJDT8A"
      },
      "source": [
        "#Image augmentation using `ImageDataGenerator`"
      ]
    },
    {
      "cell_type": "code",
      "metadata": {
        "id": "VlS4fMS1BouX"
      },
      "source": [
        "my_augmented_generator = ImageDataGenerator(\n",
        "    rotation_range=40,\n",
        "    width_shift_range=0.2,\n",
        "    height_shift_range=0.2,\n",
        "    shear_range=0.2,\n",
        "    zoom_range=0.2,\n",
        "    horizontal_flip=True,\n",
        "    rescale=1./255,\n",
        "    fill_mode='nearest')"
      ],
      "execution_count": null,
      "outputs": []
    },
    {
      "cell_type": "code",
      "metadata": {
        "id": "9CDKWBjdEuCS"
      },
      "source": [
        "my_augmented_image_generator = my_augmented_generator.flow_from_directory( './train/', target_size=(150, 150), batch_size=4, class_mode='binary')"
      ],
      "execution_count": null,
      "outputs": []
    },
    {
      "cell_type": "code",
      "metadata": {
        "id": "AQDwfH_LEx1b"
      },
      "source": [
        "for my_batch in my_augmented_image_generator:\n",
        "    # my_batch is a tuple with images and labels\n",
        "    images = my_batch[0]\n",
        "    labels = my_batch[1]\n",
        "    for i in range(len(labels)):\n",
        "        # Gives one image and its corresponding label\n",
        "        plt.imshow(images[i])\n",
        "        plt.colorbar()\n",
        "        plt.show()\n",
        "        print(labels[i])\n",
        "    break"
      ],
      "execution_count": null,
      "outputs": []
    },
    {
      "cell_type": "code",
      "metadata": {
        "id": "WTGn8y9FE0Np"
      },
      "source": [
        ""
      ],
      "execution_count": null,
      "outputs": []
    }
  ]
}